{
  "nbformat": 4,
  "nbformat_minor": 0,
  "metadata": {
    "colab": {
      "provenance": [],
      "authorship_tag": "ABX9TyP45YBuHwIO4F9m/GPXArA+",
      "include_colab_link": true
    },
    "kernelspec": {
      "name": "python3",
      "display_name": "Python 3"
    },
    "language_info": {
      "name": "python"
    }
  },
  "cells": [
    {
      "cell_type": "markdown",
      "metadata": {
        "id": "view-in-github",
        "colab_type": "text"
      },
      "source": [
        "<a href=\"https://colab.research.google.com/github/Raghul1694/introduction1/blob/main/raghul_01.ipynb\" target=\"_parent\"><img src=\"https://colab.research.google.com/assets/colab-badge.svg\" alt=\"Open In Colab\"/></a>"
      ]
    },
    {
      "cell_type": "code",
      "execution_count": 1,
      "metadata": {
        "colab": {
          "base_uri": "https://localhost:8080/"
        },
        "id": "qPR2F88_6IN0",
        "outputId": "57abc587-1a6f-4b1b-c943-6bdc9748a795"
      },
      "outputs": [
        {
          "output_type": "stream",
          "name": "stdout",
          "text": [
            "Hello, world!\n"
          ]
        }
      ],
      "source": [
        "print(\"Hello, world!\")\n"
      ]
    },
    {
      "cell_type": "code",
      "source": [
        "name = \"Raghul\"\n",
        "age = 20\n",
        "is_student = True\n",
        "\n",
        "\n",
        "print(type(name))\n",
        "print(type(age))\n",
        "print(type(is_student))"
      ],
      "metadata": {
        "colab": {
          "base_uri": "https://localhost:8080/"
        },
        "id": "NNTYKvRd7sTj",
        "outputId": "e08cb435-27d5-4d05-a628-b209a574faf2"
      },
      "execution_count": 2,
      "outputs": [
        {
          "output_type": "stream",
          "name": "stdout",
          "text": [
            "<class 'str'>\n",
            "<class 'int'>\n",
            "<class 'bool'>\n"
          ]
        }
      ]
    },
    {
      "cell_type": "code",
      "source": [
        "a = 2\n",
        "b = 50\n",
        "\n",
        "# Addition\n",
        "print(a + b)\n",
        "\n",
        "# Subtraction\n",
        "print(a - b)\n",
        "\n",
        "# Multiplication\n",
        "print(a * b)\n",
        "\n",
        "# Division\n",
        "print(a / b)\n",
        "\n",
        "# Floor Division\n",
        "print(a // b)\n",
        "\n",
        "# Modulus\n",
        "print(a % b)\n",
        "\n",
        "# Exponentiation\n",
        "print(a ** b)"
      ],
      "metadata": {
        "colab": {
          "base_uri": "https://localhost:8080/"
        },
        "id": "SQxlEm2a8oyO",
        "outputId": "9ccf3fda-0bcd-49b8-fd77-a3cf0c0bb6e5"
      },
      "execution_count": 3,
      "outputs": [
        {
          "output_type": "stream",
          "name": "stdout",
          "text": [
            "52\n",
            "-48\n",
            "100\n",
            "0.04\n",
            "0\n",
            "2\n",
            "1125899906842624\n"
          ]
        }
      ]
    },
    {
      "cell_type": "code",
      "source": [
        "my_list = [1, 2, 3, 4, 5]\n",
        "\n",
        "# Accessing elements\n",
        "print(my_list[0])\n",
        "\n",
        "# Slicing\n",
        "print(my_list[1:3])\n",
        "\n",
        "# Modifying elements\n",
        "my_list[0] = 10\n",
        "\n",
        "# Adding elements\n",
        "my_list.append(6)\n",
        "\n",
        "# Removing elements\n",
        "my_list.remove(3)\n",
        "\n",
        "# Length of list\n",
        "print(len(my_list))\n",
        "\n",
        "print(my_list)"
      ],
      "metadata": {
        "colab": {
          "base_uri": "https://localhost:8080/"
        },
        "id": "JUh3LadZ86GV",
        "outputId": "4abedd45-c0f3-4562-f693-ff0eaa277332"
      },
      "execution_count": 5,
      "outputs": [
        {
          "output_type": "stream",
          "name": "stdout",
          "text": [
            "1\n",
            "[2, 3]\n",
            "5\n",
            "[10, 2, 4, 5, 6]\n"
          ]
        }
      ]
    }
  ]
}