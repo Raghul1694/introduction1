{
  "nbformat": 4,
  "nbformat_minor": 0,
  "metadata": {
    "colab": {
      "provenance": [],
      "authorship_tag": "ABX9TyOMzbfxl4CjX1aC8tkewb+4",
      "include_colab_link": true
    },
    "kernelspec": {
      "name": "python3",
      "display_name": "Python 3"
    },
    "language_info": {
      "name": "python"
    }
  },
  "cells": [
    {
      "cell_type": "markdown",
      "metadata": {
        "id": "view-in-github",
        "colab_type": "text"
      },
      "source": [
        "<a href=\"https://colab.research.google.com/github/Raghul1694/introduction1/blob/main/project24.ipynb\" target=\"_parent\"><img src=\"https://colab.research.google.com/assets/colab-badge.svg\" alt=\"Open In Colab\"/></a>"
      ]
    },
    {
      "cell_type": "code",
      "execution_count": 11,
      "metadata": {
        "id": "nHOBYooUIwsR"
      },
      "outputs": [],
      "source": [
        "import pandas as pd\n",
        "from tabulate import tabulate\n",
        "import traceback\n",
        "import numpy as np\n",
        "import matplotlib.pyplot as plt\n",
        "from requests import get\n",
        "import requests\n",
        "import os"
      ]
    }
  ]
}